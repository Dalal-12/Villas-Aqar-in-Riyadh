{
 "cells": [
  {
   "cell_type": "markdown",
   "id": "7c488c97-3fff-494f-bfa1-7b59e8256153",
   "metadata": {},
   "source": [
    "## Importing Libraries:"
   ]
  },
  {
   "cell_type": "code",
   "execution_count": 1,
   "id": "1cb91af0-ca4b-45df-a388-a41ad4d59ff5",
   "metadata": {},
   "outputs": [],
   "source": [
    "import numpy as np\n",
    "import pandas as pd\n",
    "import matplotlib.pyplot as plt\n",
    "import seaborn as sns\n",
    "import plotly.express as px\n",
    "from matplotlib import cm\n",
    "import warnings\n",
    "warnings.filterwarnings(\"ignore\")"
   ]
  },
  {
   "cell_type": "markdown",
   "id": "87835336-961f-496f-ac21-69bfdd0c7736",
   "metadata": {},
   "source": [
    "## Reading the Data:"
   ]
  },
  {
   "cell_type": "code",
   "execution_count": 2,
   "id": "45638f74-1d5e-46a2-aca1-3c920541f7ea",
   "metadata": {
    "tags": []
   },
   "outputs": [],
   "source": [
    "df = pd.read_csv('C:/Users/dalal/Desktop/villas aqar project/RiyadhVillasAqar.csv')"
   ]
  },
  {
   "cell_type": "markdown",
   "id": "0686dfc0-1ad8-4279-a28d-d3934324b64b",
   "metadata": {},
   "source": [
    "## EDA and Data Cleaning:"
   ]
  },
  {
   "cell_type": "code",
   "execution_count": 3,
   "id": "65f4696a-f85a-4f04-875e-8e507c7379fe",
   "metadata": {
    "tags": []
   },
   "outputs": [
    {
     "data": {
      "text/html": [
       "<div>\n",
       "<style scoped>\n",
       "    .dataframe tbody tr th:only-of-type {\n",
       "        vertical-align: middle;\n",
       "    }\n",
       "\n",
       "    .dataframe tbody tr th {\n",
       "        vertical-align: top;\n",
       "    }\n",
       "\n",
       "    .dataframe thead th {\n",
       "        text-align: right;\n",
       "    }\n",
       "</style>\n",
       "<table border=\"1\" class=\"dataframe\">\n",
       "  <thead>\n",
       "    <tr style=\"text-align: right;\">\n",
       "      <th></th>\n",
       "      <th>Unnamed: 0</th>\n",
       "      <th>front</th>\n",
       "      <th>rooms</th>\n",
       "      <th>lounges</th>\n",
       "      <th>bathrooms</th>\n",
       "      <th>streetWidth</th>\n",
       "      <th>stairs</th>\n",
       "      <th>propertyAge</th>\n",
       "      <th>driverRoom</th>\n",
       "      <th>tent</th>\n",
       "      <th>...</th>\n",
       "      <th>apartments</th>\n",
       "      <th>maidRoom</th>\n",
       "      <th>elevator</th>\n",
       "      <th>furnihsed</th>\n",
       "      <th>pool</th>\n",
       "      <th>basement</th>\n",
       "      <th>neighbourhood</th>\n",
       "      <th>location</th>\n",
       "      <th>price</th>\n",
       "      <th>square price</th>\n",
       "    </tr>\n",
       "  </thead>\n",
       "  <tbody>\n",
       "    <tr>\n",
       "      <th>0</th>\n",
       "      <td>0</td>\n",
       "      <td>شرقية</td>\n",
       "      <td>5</td>\n",
       "      <td>4.0</td>\n",
       "      <td>5+</td>\n",
       "      <td>20.0</td>\n",
       "      <td>1.0</td>\n",
       "      <td>0.0</td>\n",
       "      <td>1.0</td>\n",
       "      <td>1.0</td>\n",
       "      <td>...</td>\n",
       "      <td>0</td>\n",
       "      <td>0.0</td>\n",
       "      <td>0.0</td>\n",
       "      <td>0.0</td>\n",
       "      <td>0.0</td>\n",
       "      <td>0.0</td>\n",
       "      <td>عكاظ</td>\n",
       "      <td>جنوب الرياض</td>\n",
       "      <td>1050000.0</td>\n",
       "      <td>3500.000000</td>\n",
       "    </tr>\n",
       "    <tr>\n",
       "      <th>1</th>\n",
       "      <td>1</td>\n",
       "      <td>غربية</td>\n",
       "      <td>4</td>\n",
       "      <td>3.0</td>\n",
       "      <td>5+</td>\n",
       "      <td>20.0</td>\n",
       "      <td>1.0</td>\n",
       "      <td>0.0</td>\n",
       "      <td>1.0</td>\n",
       "      <td>1.0</td>\n",
       "      <td>...</td>\n",
       "      <td>2.0</td>\n",
       "      <td>1.0</td>\n",
       "      <td>1.0</td>\n",
       "      <td>0.0</td>\n",
       "      <td>0.0</td>\n",
       "      <td>0.0</td>\n",
       "      <td>المهدية</td>\n",
       "      <td>غرب الرياض</td>\n",
       "      <td>3000000.0</td>\n",
       "      <td>5555.555556</td>\n",
       "    </tr>\n",
       "    <tr>\n",
       "      <th>2</th>\n",
       "      <td>2</td>\n",
       "      <td>جنوبية شرقية</td>\n",
       "      <td>7</td>\n",
       "      <td>2.0</td>\n",
       "      <td>5+</td>\n",
       "      <td>15.0</td>\n",
       "      <td>1.0</td>\n",
       "      <td>31.0</td>\n",
       "      <td>1.0</td>\n",
       "      <td>0.0</td>\n",
       "      <td>...</td>\n",
       "      <td>0</td>\n",
       "      <td>1.0</td>\n",
       "      <td>0.0</td>\n",
       "      <td>0.0</td>\n",
       "      <td>0.0</td>\n",
       "      <td>0.0</td>\n",
       "      <td>الشفا</td>\n",
       "      <td>جنوب الرياض</td>\n",
       "      <td>2000000.0</td>\n",
       "      <td>2285.714286</td>\n",
       "    </tr>\n",
       "    <tr>\n",
       "      <th>3</th>\n",
       "      <td>3</td>\n",
       "      <td>غربية</td>\n",
       "      <td>7</td>\n",
       "      <td>3.0</td>\n",
       "      <td>5+</td>\n",
       "      <td>15.0</td>\n",
       "      <td>1.0</td>\n",
       "      <td>3.0</td>\n",
       "      <td>0.0</td>\n",
       "      <td>1.0</td>\n",
       "      <td>...</td>\n",
       "      <td>0</td>\n",
       "      <td>1.0</td>\n",
       "      <td>0.0</td>\n",
       "      <td>1.0</td>\n",
       "      <td>0.0</td>\n",
       "      <td>0.0</td>\n",
       "      <td>ظهرة لبن</td>\n",
       "      <td>غرب الرياض</td>\n",
       "      <td>894000.0</td>\n",
       "      <td>4470.000000</td>\n",
       "    </tr>\n",
       "    <tr>\n",
       "      <th>4</th>\n",
       "      <td>4</td>\n",
       "      <td>شمالية</td>\n",
       "      <td>4</td>\n",
       "      <td>2.0</td>\n",
       "      <td>4</td>\n",
       "      <td>25.0</td>\n",
       "      <td>1.0</td>\n",
       "      <td>0.0</td>\n",
       "      <td>1.0</td>\n",
       "      <td>1.0</td>\n",
       "      <td>...</td>\n",
       "      <td>3.0</td>\n",
       "      <td>1.0</td>\n",
       "      <td>1.0</td>\n",
       "      <td>1.0</td>\n",
       "      <td>0.0</td>\n",
       "      <td>0.0</td>\n",
       "      <td>قرطبة</td>\n",
       "      <td>شرق الرياض</td>\n",
       "      <td>3500000.0</td>\n",
       "      <td>8750.000000</td>\n",
       "    </tr>\n",
       "  </tbody>\n",
       "</table>\n",
       "<p>5 rows × 26 columns</p>\n",
       "</div>"
      ],
      "text/plain": [
       "   Unnamed: 0         front  rooms lounges bathrooms  streetWidth  stairs  \\\n",
       "0           0         شرقية      5     4.0        5+         20.0     1.0   \n",
       "1           1         غربية      4     3.0        5+         20.0     1.0   \n",
       "2           2  جنوبية شرقية      7     2.0        5+         15.0     1.0   \n",
       "3           3         غربية      7     3.0        5+         15.0     1.0   \n",
       "4           4        شمالية      4     2.0         4         25.0     1.0   \n",
       "\n",
       "   propertyAge  driverRoom  tent  ...  apartments  maidRoom  elevator  \\\n",
       "0          0.0         1.0   1.0  ...           0       0.0       0.0   \n",
       "1          0.0         1.0   1.0  ...         2.0       1.0       1.0   \n",
       "2         31.0         1.0   0.0  ...           0       1.0       0.0   \n",
       "3          3.0         0.0   1.0  ...           0       1.0       0.0   \n",
       "4          0.0         1.0   1.0  ...         3.0       1.0       1.0   \n",
       "\n",
       "   furnihsed  pool  basement neighbourhood     location      price  \\\n",
       "0        0.0   0.0       0.0         عكاظ   جنوب الرياض  1050000.0   \n",
       "1        0.0   0.0       0.0      المهدية    غرب الرياض  3000000.0   \n",
       "2        0.0   0.0       0.0        الشفا   جنوب الرياض  2000000.0   \n",
       "3        1.0   0.0       0.0     ظهرة لبن    غرب الرياض   894000.0   \n",
       "4        1.0   0.0       0.0        قرطبة    شرق الرياض  3500000.0   \n",
       "\n",
       "   square price  \n",
       "0   3500.000000  \n",
       "1   5555.555556  \n",
       "2   2285.714286  \n",
       "3   4470.000000  \n",
       "4   8750.000000  \n",
       "\n",
       "[5 rows x 26 columns]"
      ]
     },
     "execution_count": 3,
     "metadata": {},
     "output_type": "execute_result"
    }
   ],
   "source": [
    "df.head()"
   ]
  },
  {
   "cell_type": "code",
   "execution_count": 4,
   "id": "5917b6d2-0db7-4bd1-82e8-a1ae05472c77",
   "metadata": {
    "tags": []
   },
   "outputs": [
    {
     "data": {
      "text/plain": [
       "(46826, 26)"
      ]
     },
     "execution_count": 4,
     "metadata": {},
     "output_type": "execute_result"
    }
   ],
   "source": [
    "df.shape"
   ]
  },
  {
   "cell_type": "code",
   "execution_count": 5,
   "id": "971fb747-b4e7-44a6-9f44-0d178f38014a",
   "metadata": {
    "tags": []
   },
   "outputs": [
    {
     "name": "stdout",
     "output_type": "stream",
     "text": [
      "<class 'pandas.core.frame.DataFrame'>\n",
      "RangeIndex: 46826 entries, 0 to 46825\n",
      "Data columns (total 26 columns):\n",
      " #   Column         Non-Null Count  Dtype  \n",
      "---  ------         --------------  -----  \n",
      " 0   Unnamed: 0     46826 non-null  int64  \n",
      " 1   front          46826 non-null  object \n",
      " 2   rooms          46826 non-null  int64  \n",
      " 3   lounges        45708 non-null  object \n",
      " 4   bathrooms      46826 non-null  object \n",
      " 5   streetWidth    46636 non-null  float64\n",
      " 6   stairs         46826 non-null  float64\n",
      " 7   propertyAge    46826 non-null  float64\n",
      " 8   driverRoom     46826 non-null  float64\n",
      " 9   tent           46826 non-null  float64\n",
      " 10  patio          46826 non-null  float64\n",
      " 11  kitchen        46826 non-null  float64\n",
      " 12  outdoorRoom    46826 non-null  float64\n",
      " 13  garage         46826 non-null  float64\n",
      " 14  duplex         46826 non-null  float64\n",
      " 15  space          46826 non-null  int64  \n",
      " 16  apartments     46826 non-null  object \n",
      " 17  maidRoom       46826 non-null  float64\n",
      " 18  elevator       46826 non-null  float64\n",
      " 19  furnihsed      46826 non-null  float64\n",
      " 20  pool           46826 non-null  float64\n",
      " 21  basement       46826 non-null  float64\n",
      " 22  neighbourhood  46826 non-null  object \n",
      " 23  location       46826 non-null  object \n",
      " 24  price          46824 non-null  float64\n",
      " 25  square price   46824 non-null  float64\n",
      "dtypes: float64(17), int64(3), object(6)\n",
      "memory usage: 9.3+ MB\n"
     ]
    }
   ],
   "source": [
    "df.info()"
   ]
  },
  {
   "cell_type": "code",
   "execution_count": 6,
   "id": "e1666b43-6cc5-44c1-8448-de70c5e36756",
   "metadata": {
    "tags": []
   },
   "outputs": [
    {
     "data": {
      "text/html": [
       "<div>\n",
       "<style scoped>\n",
       "    .dataframe tbody tr th:only-of-type {\n",
       "        vertical-align: middle;\n",
       "    }\n",
       "\n",
       "    .dataframe tbody tr th {\n",
       "        vertical-align: top;\n",
       "    }\n",
       "\n",
       "    .dataframe thead th {\n",
       "        text-align: right;\n",
       "    }\n",
       "</style>\n",
       "<table border=\"1\" class=\"dataframe\">\n",
       "  <thead>\n",
       "    <tr style=\"text-align: right;\">\n",
       "      <th></th>\n",
       "      <th>Unnamed: 0</th>\n",
       "      <th>front</th>\n",
       "      <th>rooms</th>\n",
       "      <th>lounges</th>\n",
       "      <th>bathrooms</th>\n",
       "      <th>streetWidth</th>\n",
       "      <th>stairs</th>\n",
       "      <th>propertyAge</th>\n",
       "      <th>driverRoom</th>\n",
       "      <th>tent</th>\n",
       "      <th>...</th>\n",
       "      <th>apartments</th>\n",
       "      <th>maidRoom</th>\n",
       "      <th>elevator</th>\n",
       "      <th>furnihsed</th>\n",
       "      <th>pool</th>\n",
       "      <th>basement</th>\n",
       "      <th>neighbourhood</th>\n",
       "      <th>location</th>\n",
       "      <th>price</th>\n",
       "      <th>square price</th>\n",
       "    </tr>\n",
       "  </thead>\n",
       "  <tbody>\n",
       "    <tr>\n",
       "      <th>count</th>\n",
       "      <td>46826.000000</td>\n",
       "      <td>46826</td>\n",
       "      <td>46826.000000</td>\n",
       "      <td>45708</td>\n",
       "      <td>46826</td>\n",
       "      <td>46636.000000</td>\n",
       "      <td>46826.000000</td>\n",
       "      <td>46826.000000</td>\n",
       "      <td>46826.000000</td>\n",
       "      <td>46826.000000</td>\n",
       "      <td>...</td>\n",
       "      <td>46826</td>\n",
       "      <td>46826.000000</td>\n",
       "      <td>46826.000000</td>\n",
       "      <td>46826.000000</td>\n",
       "      <td>46826.000000</td>\n",
       "      <td>46826.000000</td>\n",
       "      <td>46826</td>\n",
       "      <td>46826</td>\n",
       "      <td>4.682400e+04</td>\n",
       "      <td>46824.000000</td>\n",
       "    </tr>\n",
       "    <tr>\n",
       "      <th>unique</th>\n",
       "      <td>NaN</td>\n",
       "      <td>10</td>\n",
       "      <td>NaN</td>\n",
       "      <td>11</td>\n",
       "      <td>5</td>\n",
       "      <td>NaN</td>\n",
       "      <td>NaN</td>\n",
       "      <td>NaN</td>\n",
       "      <td>NaN</td>\n",
       "      <td>NaN</td>\n",
       "      <td>...</td>\n",
       "      <td>44</td>\n",
       "      <td>NaN</td>\n",
       "      <td>NaN</td>\n",
       "      <td>NaN</td>\n",
       "      <td>NaN</td>\n",
       "      <td>NaN</td>\n",
       "      <td>295</td>\n",
       "      <td>5</td>\n",
       "      <td>NaN</td>\n",
       "      <td>NaN</td>\n",
       "    </tr>\n",
       "    <tr>\n",
       "      <th>top</th>\n",
       "      <td>NaN</td>\n",
       "      <td>شمالية</td>\n",
       "      <td>NaN</td>\n",
       "      <td>2</td>\n",
       "      <td>5+</td>\n",
       "      <td>NaN</td>\n",
       "      <td>NaN</td>\n",
       "      <td>NaN</td>\n",
       "      <td>NaN</td>\n",
       "      <td>NaN</td>\n",
       "      <td>...</td>\n",
       "      <td>0</td>\n",
       "      <td>NaN</td>\n",
       "      <td>NaN</td>\n",
       "      <td>NaN</td>\n",
       "      <td>NaN</td>\n",
       "      <td>NaN</td>\n",
       "      <td>طويق</td>\n",
       "      <td>غرب الرياض</td>\n",
       "      <td>NaN</td>\n",
       "      <td>NaN</td>\n",
       "    </tr>\n",
       "    <tr>\n",
       "      <th>freq</th>\n",
       "      <td>NaN</td>\n",
       "      <td>12160</td>\n",
       "      <td>NaN</td>\n",
       "      <td>15418</td>\n",
       "      <td>32371</td>\n",
       "      <td>NaN</td>\n",
       "      <td>NaN</td>\n",
       "      <td>NaN</td>\n",
       "      <td>NaN</td>\n",
       "      <td>NaN</td>\n",
       "      <td>...</td>\n",
       "      <td>18946</td>\n",
       "      <td>NaN</td>\n",
       "      <td>NaN</td>\n",
       "      <td>NaN</td>\n",
       "      <td>NaN</td>\n",
       "      <td>NaN</td>\n",
       "      <td>7775</td>\n",
       "      <td>13548</td>\n",
       "      <td>NaN</td>\n",
       "      <td>NaN</td>\n",
       "    </tr>\n",
       "    <tr>\n",
       "      <th>mean</th>\n",
       "      <td>25915.132384</td>\n",
       "      <td>NaN</td>\n",
       "      <td>4.687439</td>\n",
       "      <td>NaN</td>\n",
       "      <td>NaN</td>\n",
       "      <td>18.158418</td>\n",
       "      <td>0.683979</td>\n",
       "      <td>2.454790</td>\n",
       "      <td>0.355871</td>\n",
       "      <td>0.466258</td>\n",
       "      <td>...</td>\n",
       "      <td>NaN</td>\n",
       "      <td>0.767821</td>\n",
       "      <td>0.235745</td>\n",
       "      <td>0.078738</td>\n",
       "      <td>0.116410</td>\n",
       "      <td>0.037671</td>\n",
       "      <td>NaN</td>\n",
       "      <td>NaN</td>\n",
       "      <td>2.347636e+06</td>\n",
       "      <td>6088.058800</td>\n",
       "    </tr>\n",
       "    <tr>\n",
       "      <th>std</th>\n",
       "      <td>14993.821359</td>\n",
       "      <td>NaN</td>\n",
       "      <td>1.104970</td>\n",
       "      <td>NaN</td>\n",
       "      <td>NaN</td>\n",
       "      <td>4.167866</td>\n",
       "      <td>0.464926</td>\n",
       "      <td>6.496833</td>\n",
       "      <td>0.478781</td>\n",
       "      <td>0.498866</td>\n",
       "      <td>...</td>\n",
       "      <td>NaN</td>\n",
       "      <td>0.422227</td>\n",
       "      <td>0.424468</td>\n",
       "      <td>0.269333</td>\n",
       "      <td>0.320719</td>\n",
       "      <td>0.190402</td>\n",
       "      <td>NaN</td>\n",
       "      <td>NaN</td>\n",
       "      <td>2.782053e+06</td>\n",
       "      <td>4515.845244</td>\n",
       "    </tr>\n",
       "    <tr>\n",
       "      <th>min</th>\n",
       "      <td>0.000000</td>\n",
       "      <td>NaN</td>\n",
       "      <td>1.000000</td>\n",
       "      <td>NaN</td>\n",
       "      <td>NaN</td>\n",
       "      <td>1.000000</td>\n",
       "      <td>0.000000</td>\n",
       "      <td>0.000000</td>\n",
       "      <td>0.000000</td>\n",
       "      <td>0.000000</td>\n",
       "      <td>...</td>\n",
       "      <td>NaN</td>\n",
       "      <td>0.000000</td>\n",
       "      <td>0.000000</td>\n",
       "      <td>0.000000</td>\n",
       "      <td>0.000000</td>\n",
       "      <td>0.000000</td>\n",
       "      <td>NaN</td>\n",
       "      <td>NaN</td>\n",
       "      <td>1.080000e+03</td>\n",
       "      <td>3.428571</td>\n",
       "    </tr>\n",
       "    <tr>\n",
       "      <th>25%</th>\n",
       "      <td>12925.250000</td>\n",
       "      <td>NaN</td>\n",
       "      <td>4.000000</td>\n",
       "      <td>NaN</td>\n",
       "      <td>NaN</td>\n",
       "      <td>15.000000</td>\n",
       "      <td>0.000000</td>\n",
       "      <td>0.000000</td>\n",
       "      <td>0.000000</td>\n",
       "      <td>0.000000</td>\n",
       "      <td>...</td>\n",
       "      <td>NaN</td>\n",
       "      <td>1.000000</td>\n",
       "      <td>0.000000</td>\n",
       "      <td>0.000000</td>\n",
       "      <td>0.000000</td>\n",
       "      <td>0.000000</td>\n",
       "      <td>NaN</td>\n",
       "      <td>NaN</td>\n",
       "      <td>1.180000e+06</td>\n",
       "      <td>3866.666667</td>\n",
       "    </tr>\n",
       "    <tr>\n",
       "      <th>50%</th>\n",
       "      <td>25836.500000</td>\n",
       "      <td>NaN</td>\n",
       "      <td>5.000000</td>\n",
       "      <td>NaN</td>\n",
       "      <td>NaN</td>\n",
       "      <td>20.000000</td>\n",
       "      <td>1.000000</td>\n",
       "      <td>0.000000</td>\n",
       "      <td>0.000000</td>\n",
       "      <td>0.000000</td>\n",
       "      <td>...</td>\n",
       "      <td>NaN</td>\n",
       "      <td>1.000000</td>\n",
       "      <td>0.000000</td>\n",
       "      <td>0.000000</td>\n",
       "      <td>0.000000</td>\n",
       "      <td>0.000000</td>\n",
       "      <td>NaN</td>\n",
       "      <td>NaN</td>\n",
       "      <td>1.600000e+06</td>\n",
       "      <td>5000.000000</td>\n",
       "    </tr>\n",
       "    <tr>\n",
       "      <th>75%</th>\n",
       "      <td>38917.750000</td>\n",
       "      <td>NaN</td>\n",
       "      <td>5.000000</td>\n",
       "      <td>NaN</td>\n",
       "      <td>NaN</td>\n",
       "      <td>20.000000</td>\n",
       "      <td>1.000000</td>\n",
       "      <td>0.000000</td>\n",
       "      <td>1.000000</td>\n",
       "      <td>1.000000</td>\n",
       "      <td>...</td>\n",
       "      <td>NaN</td>\n",
       "      <td>1.000000</td>\n",
       "      <td>0.000000</td>\n",
       "      <td>0.000000</td>\n",
       "      <td>0.000000</td>\n",
       "      <td>0.000000</td>\n",
       "      <td>NaN</td>\n",
       "      <td>NaN</td>\n",
       "      <td>2.600000e+06</td>\n",
       "      <td>7600.000000</td>\n",
       "    </tr>\n",
       "    <tr>\n",
       "      <th>max</th>\n",
       "      <td>51844.000000</td>\n",
       "      <td>NaN</td>\n",
       "      <td>7.000000</td>\n",
       "      <td>NaN</td>\n",
       "      <td>NaN</td>\n",
       "      <td>100.000000</td>\n",
       "      <td>1.000000</td>\n",
       "      <td>35.000000</td>\n",
       "      <td>1.000000</td>\n",
       "      <td>1.000000</td>\n",
       "      <td>...</td>\n",
       "      <td>NaN</td>\n",
       "      <td>1.000000</td>\n",
       "      <td>1.000000</td>\n",
       "      <td>1.000000</td>\n",
       "      <td>1.000000</td>\n",
       "      <td>1.000000</td>\n",
       "      <td>NaN</td>\n",
       "      <td>NaN</td>\n",
       "      <td>1.000000e+08</td>\n",
       "      <td>136144.578313</td>\n",
       "    </tr>\n",
       "  </tbody>\n",
       "</table>\n",
       "<p>11 rows × 26 columns</p>\n",
       "</div>"
      ],
      "text/plain": [
       "          Unnamed: 0   front         rooms lounges bathrooms   streetWidth  \\\n",
       "count   46826.000000   46826  46826.000000   45708     46826  46636.000000   \n",
       "unique           NaN      10           NaN      11         5           NaN   \n",
       "top              NaN  شمالية           NaN       2        5+           NaN   \n",
       "freq             NaN   12160           NaN   15418     32371           NaN   \n",
       "mean    25915.132384     NaN      4.687439     NaN       NaN     18.158418   \n",
       "std     14993.821359     NaN      1.104970     NaN       NaN      4.167866   \n",
       "min         0.000000     NaN      1.000000     NaN       NaN      1.000000   \n",
       "25%     12925.250000     NaN      4.000000     NaN       NaN     15.000000   \n",
       "50%     25836.500000     NaN      5.000000     NaN       NaN     20.000000   \n",
       "75%     38917.750000     NaN      5.000000     NaN       NaN     20.000000   \n",
       "max     51844.000000     NaN      7.000000     NaN       NaN    100.000000   \n",
       "\n",
       "              stairs   propertyAge    driverRoom          tent  ...  \\\n",
       "count   46826.000000  46826.000000  46826.000000  46826.000000  ...   \n",
       "unique           NaN           NaN           NaN           NaN  ...   \n",
       "top              NaN           NaN           NaN           NaN  ...   \n",
       "freq             NaN           NaN           NaN           NaN  ...   \n",
       "mean        0.683979      2.454790      0.355871      0.466258  ...   \n",
       "std         0.464926      6.496833      0.478781      0.498866  ...   \n",
       "min         0.000000      0.000000      0.000000      0.000000  ...   \n",
       "25%         0.000000      0.000000      0.000000      0.000000  ...   \n",
       "50%         1.000000      0.000000      0.000000      0.000000  ...   \n",
       "75%         1.000000      0.000000      1.000000      1.000000  ...   \n",
       "max         1.000000     35.000000      1.000000      1.000000  ...   \n",
       "\n",
       "        apartments      maidRoom      elevator     furnihsed          pool  \\\n",
       "count        46826  46826.000000  46826.000000  46826.000000  46826.000000   \n",
       "unique          44           NaN           NaN           NaN           NaN   \n",
       "top              0           NaN           NaN           NaN           NaN   \n",
       "freq         18946           NaN           NaN           NaN           NaN   \n",
       "mean           NaN      0.767821      0.235745      0.078738      0.116410   \n",
       "std            NaN      0.422227      0.424468      0.269333      0.320719   \n",
       "min            NaN      0.000000      0.000000      0.000000      0.000000   \n",
       "25%            NaN      1.000000      0.000000      0.000000      0.000000   \n",
       "50%            NaN      1.000000      0.000000      0.000000      0.000000   \n",
       "75%            NaN      1.000000      0.000000      0.000000      0.000000   \n",
       "max            NaN      1.000000      1.000000      1.000000      1.000000   \n",
       "\n",
       "            basement neighbourhood    location         price   square price  \n",
       "count   46826.000000         46826       46826  4.682400e+04   46824.000000  \n",
       "unique           NaN           295           5           NaN            NaN  \n",
       "top              NaN         طويق   غرب الرياض           NaN            NaN  \n",
       "freq             NaN          7775       13548           NaN            NaN  \n",
       "mean        0.037671           NaN         NaN  2.347636e+06    6088.058800  \n",
       "std         0.190402           NaN         NaN  2.782053e+06    4515.845244  \n",
       "min         0.000000           NaN         NaN  1.080000e+03       3.428571  \n",
       "25%         0.000000           NaN         NaN  1.180000e+06    3866.666667  \n",
       "50%         0.000000           NaN         NaN  1.600000e+06    5000.000000  \n",
       "75%         0.000000           NaN         NaN  2.600000e+06    7600.000000  \n",
       "max         1.000000           NaN         NaN  1.000000e+08  136144.578313  \n",
       "\n",
       "[11 rows x 26 columns]"
      ]
     },
     "execution_count": 6,
     "metadata": {},
     "output_type": "execute_result"
    }
   ],
   "source": [
    "df.describe(include='all')"
   ]
  },
  {
   "cell_type": "code",
   "execution_count": 7,
   "id": "5981cf1f-136d-48b9-812e-9542ae517dbc",
   "metadata": {
    "tags": []
   },
   "outputs": [],
   "source": [
    "# delete unnecessary columns:\n",
    "df.drop('Unnamed: 0', axis=1, inplace=True)"
   ]
  },
  {
   "cell_type": "code",
   "execution_count": 8,
   "id": "e2435b4e-d156-4751-8be6-42121926e483",
   "metadata": {
    "tags": []
   },
   "outputs": [
    {
     "data": {
      "text/plain": [
       "Index(['front', 'rooms', 'lounges', 'bathrooms', 'streetWidth', 'stairs',\n",
       "       'propertyAge', 'driverRoom', 'tent', 'patio', 'kitchen', 'outdoorRoom',\n",
       "       'garage', 'duplex', 'space', 'apartments', 'maidRoom', 'elevator',\n",
       "       'furnihsed', 'pool', 'basement', 'neighbourhood', 'location', 'price',\n",
       "       'square price'],\n",
       "      dtype='object')"
      ]
     },
     "execution_count": 8,
     "metadata": {},
     "output_type": "execute_result"
    }
   ],
   "source": [
    "df.columns"
   ]
  },
  {
   "cell_type": "code",
   "execution_count": 9,
   "id": "239f9260-200d-428d-8633-4c83d67bbba8",
   "metadata": {
    "tags": []
   },
   "outputs": [
    {
     "data": {
      "text/plain": [
       "1312"
      ]
     },
     "execution_count": 9,
     "metadata": {},
     "output_type": "execute_result"
    }
   ],
   "source": [
    "# to check the missing values :\n",
    "df.isna().sum().sum()"
   ]
  },
  {
   "cell_type": "markdown",
   "id": "0ba097dc-e240-4840-8227-d6949851c987",
   "metadata": {},
   "source": [
    "there are 1312 missing value, i'm gonna deal with it later"
   ]
  },
  {
   "cell_type": "code",
   "execution_count": 10,
   "id": "eb5d8603-003f-48cf-bd17-f9f4e291c3e7",
   "metadata": {
    "tags": []
   },
   "outputs": [
    {
     "data": {
      "text/plain": [
       "False    39368\n",
       "True      7458\n",
       "Name: count, dtype: int64"
      ]
     },
     "execution_count": 10,
     "metadata": {},
     "output_type": "execute_result"
    }
   ],
   "source": [
    "# chcking for duplication in data\n",
    "df.duplicated().value_counts()"
   ]
  },
  {
   "cell_type": "code",
   "execution_count": 11,
   "id": "b7abc2dc-ba8e-4673-a962-30406ded7902",
   "metadata": {
    "tags": []
   },
   "outputs": [
    {
     "name": "stdout",
     "output_type": "stream",
     "text": [
      "(39368, 25)\n"
     ]
    }
   ],
   "source": [
    "# delete the duplication in data\n",
    "df.drop_duplicates(inplace=True)\n",
    "print(df.shape)"
   ]
  },
  {
   "cell_type": "markdown",
   "id": "1ecfc8cc-874c-441f-836f-c15f6ed3a44a",
   "metadata": {},
   "source": [
    "### Now I will go through each column in my data and do some EDA and data cleaning hand-in-hand to uncover issues and fix them:"
   ]
  },
  {
   "cell_type": "code",
   "execution_count": 12,
   "id": "b97a1bc5-2b5b-4265-bee3-6ce39d4dce08",
   "metadata": {
    "tags": []
   },
   "outputs": [
    {
     "data": {
      "text/plain": [
       "front\n",
       "شمالية          10251\n",
       "شرقية            8904\n",
       "جنوبية           8567\n",
       "غربية            5871\n",
       "شمالية شرقية     1654\n",
       "جنوبية غربية     1335\n",
       "جنوبية شرقية     1293\n",
       "شمالية غربية     1196\n",
       "ثلاث شوارع        262\n",
       "أربع شوارع         35\n",
       "Name: count, dtype: int64"
      ]
     },
     "execution_count": 12,
     "metadata": {},
     "output_type": "execute_result"
    }
   ],
   "source": [
    "df['front'].value_counts()"
   ]
  },
  {
   "cell_type": "code",
   "execution_count": 13,
   "id": "a5d834d6-7828-4511-b1f9-f8b8dc48ba51",
   "metadata": {
    "tags": []
   },
   "outputs": [],
   "source": [
    "# convert the fronts into english :\n",
    "fronts = {\n",
    "    'شمالية': 'N',\n",
    "    'شرقية': 'E',\n",
    "    'جنوبية': 'S',\n",
    "    'غربية': 'W',\n",
    "    'شمالية شرقية': 'NE',\n",
    "    'جنوبية غربية': 'SW',\n",
    "    'جنوبية شرقية': 'SE',\n",
    "    'شمالية غربية': 'NW',\n",
    "    'ثلاث شوارع': 'Three Street',\n",
    "    'أربع شوارع': 'Four Street'\n",
    "}\n",
    "df['front'] = df['front'].replace(fronts)"
   ]
  },
  {
   "cell_type": "code",
   "execution_count": 14,
   "id": "f3ffb3d5-52cc-4ba1-abe9-6e1ed2c87bdc",
   "metadata": {
    "tags": []
   },
   "outputs": [
    {
     "data": {
      "text/plain": [
       "front\n",
       "N               10251\n",
       "E                8904\n",
       "S                8567\n",
       "W                5871\n",
       "NE               1654\n",
       "SW               1335\n",
       "SE               1293\n",
       "NW               1196\n",
       "Three Street      262\n",
       "Four Street        35\n",
       "Name: count, dtype: int64"
      ]
     },
     "execution_count": 14,
     "metadata": {},
     "output_type": "execute_result"
    }
   ],
   "source": [
    "df['front'].value_counts()"
   ]
  },
  {
   "cell_type": "code",
   "execution_count": 15,
   "id": "ffefb469-2a55-4363-9cd2-177b6516cdde",
   "metadata": {
    "tags": []
   },
   "outputs": [
    {
     "data": {
      "text/plain": [
       "rooms\n",
       "5    16702\n",
       "4    13755\n",
       "7     3698\n",
       "3     2568\n",
       "6     1848\n",
       "1      587\n",
       "2      210\n",
       "Name: count, dtype: int64"
      ]
     },
     "execution_count": 15,
     "metadata": {},
     "output_type": "execute_result"
    }
   ],
   "source": [
    "df['rooms'].value_counts()"
   ]
  },
  {
   "cell_type": "code",
   "execution_count": 16,
   "id": "ca62f2f7-e039-4547-8993-8e12f26a557c",
   "metadata": {
    "tags": []
   },
   "outputs": [
    {
     "data": {
      "text/plain": [
       "lounges\n",
       "2      12598\n",
       "3       8176\n",
       "1       5176\n",
       "2.0     3989\n",
       "3.0     2661\n",
       "4       1789\n",
       "1.0     1631\n",
       "5       1346\n",
       "4.0      626\n",
       "5.0      495\n",
       "7+         9\n",
       "Name: count, dtype: int64"
      ]
     },
     "execution_count": 16,
     "metadata": {},
     "output_type": "execute_result"
    }
   ],
   "source": [
    "df['lounges'].value_counts()"
   ]
  },
  {
   "cell_type": "code",
   "execution_count": 17,
   "id": "e21e3eef-e3b8-4ec0-b562-8496d5a552a3",
   "metadata": {
    "tags": []
   },
   "outputs": [],
   "source": [
    "# removing unwanted characters:\n",
    "df['lounges'] = df['lounges'].str.replace('+', '')"
   ]
  },
  {
   "cell_type": "code",
   "execution_count": 18,
   "id": "b497bbb7-1ed1-44ba-b3d9-eb49b238ff72",
   "metadata": {
    "tags": []
   },
   "outputs": [
    {
     "data": {
      "text/plain": [
       "lounges\n",
       "2      12598\n",
       "3       8176\n",
       "1       5176\n",
       "2.0     3989\n",
       "3.0     2661\n",
       "4       1789\n",
       "1.0     1631\n",
       "5       1346\n",
       "4.0      626\n",
       "5.0      495\n",
       "7          9\n",
       "Name: count, dtype: int64"
      ]
     },
     "execution_count": 18,
     "metadata": {},
     "output_type": "execute_result"
    }
   ],
   "source": [
    "df['lounges'].value_counts()"
   ]
  },
  {
   "cell_type": "code",
   "execution_count": 19,
   "id": "4870d441-4783-4754-9104-d656a5f5ebc9",
   "metadata": {
    "tags": []
   },
   "outputs": [
    {
     "data": {
      "text/plain": [
       "bathrooms\n",
       "5+    27146\n",
       "4      7436\n",
       "3      3509\n",
       "2      1010\n",
       "1       267\n",
       "Name: count, dtype: int64"
      ]
     },
     "execution_count": 19,
     "metadata": {},
     "output_type": "execute_result"
    }
   ],
   "source": [
    "df['bathrooms'].value_counts()"
   ]
  },
  {
   "cell_type": "code",
   "execution_count": 20,
   "id": "4dc74739-7fd6-4f00-9278-afce81dd6f69",
   "metadata": {
    "tags": []
   },
   "outputs": [],
   "source": [
    "df['bathrooms'] = df['bathrooms'].str.replace('+', '')"
   ]
  },
  {
   "cell_type": "code",
   "execution_count": 21,
   "id": "c578e631-aed0-4330-869c-f03f1ada2c4b",
   "metadata": {
    "tags": []
   },
   "outputs": [
    {
     "data": {
      "text/plain": [
       "bathrooms\n",
       "5    27146\n",
       "4     7436\n",
       "3     3509\n",
       "2     1010\n",
       "1      267\n",
       "Name: count, dtype: int64"
      ]
     },
     "execution_count": 21,
     "metadata": {},
     "output_type": "execute_result"
    }
   ],
   "source": [
    "df['bathrooms'].value_counts()"
   ]
  },
  {
   "cell_type": "code",
   "execution_count": 22,
   "id": "76713115-e3df-444a-bc5e-64c5ffa0831e",
   "metadata": {
    "tags": []
   },
   "outputs": [
    {
     "data": {
      "text/plain": [
       "streetWidth\n",
       "20.0     16052\n",
       "15.0     12964\n",
       "18.0      2518\n",
       "25.0      1626\n",
       "16.0       946\n",
       "21.0       778\n",
       "12.0       542\n",
       "30.0       524\n",
       "19.0       507\n",
       "17.0       498\n",
       "10.0       493\n",
       "5.0        416\n",
       "14.0       324\n",
       "28.0       190\n",
       "22.0       180\n",
       "24.0        89\n",
       "26.0        74\n",
       "23.0        72\n",
       "13.0        67\n",
       "35.0        46\n",
       "40.0        44\n",
       "31.0        34\n",
       "36.0        29\n",
       "11.0        28\n",
       "29.0        25\n",
       "27.0        24\n",
       "1.0         17\n",
       "32.0        12\n",
       "9.0          8\n",
       "8.0          8\n",
       "45.0         8\n",
       "60.0         8\n",
       "100.0        6\n",
       "33.0         6\n",
       "34.0         5\n",
       "4.0          5\n",
       "50.0         5\n",
       "43.0         4\n",
       "6.0          4\n",
       "38.0         3\n",
       "39.0         3\n",
       "41.0         3\n",
       "2.0          3\n",
       "37.0         2\n",
       "56.0         2\n",
       "97.0         1\n",
       "61.0         1\n",
       "62.0         1\n",
       "72.0         1\n",
       "96.0         1\n",
       "44.0         1\n",
       "64.0         1\n",
       "42.0         1\n",
       "70.0         1\n",
       "51.0         1\n",
       "Name: count, dtype: int64"
      ]
     },
     "execution_count": 22,
     "metadata": {},
     "output_type": "execute_result"
    }
   ],
   "source": [
    "df['streetWidth'].value_counts()"
   ]
  },
  {
   "cell_type": "code",
   "execution_count": 23,
   "id": "31113226-0e35-4712-9877-44f9f43aa319",
   "metadata": {
    "tags": []
   },
   "outputs": [
    {
     "data": {
      "text/plain": [
       "stairs\n",
       "1.0    26893\n",
       "0.0    12475\n",
       "Name: count, dtype: int64"
      ]
     },
     "execution_count": 23,
     "metadata": {},
     "output_type": "execute_result"
    }
   ],
   "source": [
    "df['stairs'].value_counts()"
   ]
  },
  {
   "cell_type": "code",
   "execution_count": 24,
   "id": "ac29e5c7-55f7-42cf-912b-b36a2bbf8b29",
   "metadata": {
    "tags": []
   },
   "outputs": [
    {
     "data": {
      "text/plain": [
       "propertyAge\n",
       "0.0     31405\n",
       "5.0       604\n",
       "6.0       527\n",
       "4.0       503\n",
       "10.0      482\n",
       "7.0       477\n",
       "8.0       459\n",
       "1.0       443\n",
       "3.0       426\n",
       "2.0       412\n",
       "30.0      348\n",
       "9.0       346\n",
       "15.0      340\n",
       "20.0      309\n",
       "35.0      301\n",
       "12.0      256\n",
       "11.0      231\n",
       "25.0      204\n",
       "13.0      167\n",
       "14.0      146\n",
       "17.0      119\n",
       "16.0      106\n",
       "18.0      105\n",
       "22.0       92\n",
       "27.0       63\n",
       "19.0       59\n",
       "28.0       58\n",
       "23.0       57\n",
       "33.0       51\n",
       "21.0       46\n",
       "32.0       43\n",
       "24.0       41\n",
       "26.0       41\n",
       "34.0       38\n",
       "29.0       35\n",
       "31.0       28\n",
       "Name: count, dtype: int64"
      ]
     },
     "execution_count": 24,
     "metadata": {},
     "output_type": "execute_result"
    }
   ],
   "source": [
    "df['propertyAge'].value_counts()"
   ]
  },
  {
   "cell_type": "code",
   "execution_count": 25,
   "id": "b75d71e4-10a9-4b92-8760-d3bd83e95cc8",
   "metadata": {
    "tags": []
   },
   "outputs": [
    {
     "data": {
      "text/plain": [
       "driverRoom\n",
       "0.0    25371\n",
       "1.0    13997\n",
       "Name: count, dtype: int64"
      ]
     },
     "execution_count": 25,
     "metadata": {},
     "output_type": "execute_result"
    }
   ],
   "source": [
    "df['driverRoom'].value_counts()"
   ]
  },
  {
   "cell_type": "code",
   "execution_count": 26,
   "id": "8fb5ad54-d4da-4f1c-a0a6-92cc96cd34b0",
   "metadata": {
    "tags": []
   },
   "outputs": [
    {
     "data": {
      "text/plain": [
       "tent\n",
       "0.0    20945\n",
       "1.0    18423\n",
       "Name: count, dtype: int64"
      ]
     },
     "execution_count": 26,
     "metadata": {},
     "output_type": "execute_result"
    }
   ],
   "source": [
    "df['tent'].value_counts()"
   ]
  },
  {
   "cell_type": "code",
   "execution_count": 27,
   "id": "772e2706-72a4-4963-a0d6-777d472d4698",
   "metadata": {
    "tags": []
   },
   "outputs": [
    {
     "data": {
      "text/plain": [
       "patio\n",
       "1.0    30244\n",
       "0.0     9124\n",
       "Name: count, dtype: int64"
      ]
     },
     "execution_count": 27,
     "metadata": {},
     "output_type": "execute_result"
    }
   ],
   "source": [
    "df['patio'].value_counts()"
   ]
  },
  {
   "cell_type": "code",
   "execution_count": 28,
   "id": "b9f08fe9-0049-41af-b959-a51c36b37a94",
   "metadata": {
    "tags": []
   },
   "outputs": [
    {
     "data": {
      "text/plain": [
       "kitchen\n",
       "1.0    38551\n",
       "0.0      817\n",
       "Name: count, dtype: int64"
      ]
     },
     "execution_count": 28,
     "metadata": {},
     "output_type": "execute_result"
    }
   ],
   "source": [
    "df['kitchen'].value_counts()"
   ]
  },
  {
   "cell_type": "code",
   "execution_count": 29,
   "id": "e7fb2576-1813-40d6-a8c8-37bc328593b1",
   "metadata": {
    "tags": []
   },
   "outputs": [
    {
     "data": {
      "text/plain": [
       "outdoorRoom\n",
       "1.0    25498\n",
       "0.0    13870\n",
       "Name: count, dtype: int64"
      ]
     },
     "execution_count": 29,
     "metadata": {},
     "output_type": "execute_result"
    }
   ],
   "source": [
    "df['outdoorRoom'].value_counts()"
   ]
  },
  {
   "cell_type": "code",
   "execution_count": 30,
   "id": "e005ec5f-bfaf-4c25-a439-3c268d3fd7d3",
   "metadata": {
    "tags": []
   },
   "outputs": [
    {
     "data": {
      "text/plain": [
       "garage\n",
       "1.0    35772\n",
       "0.0     3596\n",
       "Name: count, dtype: int64"
      ]
     },
     "execution_count": 30,
     "metadata": {},
     "output_type": "execute_result"
    }
   ],
   "source": [
    "df['garage'].value_counts()"
   ]
  },
  {
   "cell_type": "code",
   "execution_count": 31,
   "id": "c4f90aa1-0bb1-45e8-b408-784e3f6d6acd",
   "metadata": {
    "tags": []
   },
   "outputs": [
    {
     "data": {
      "text/plain": [
       "duplex\n",
       "0.0    27901\n",
       "1.0    11467\n",
       "Name: count, dtype: int64"
      ]
     },
     "execution_count": 31,
     "metadata": {},
     "output_type": "execute_result"
    }
   ],
   "source": [
    "df['duplex'].value_counts()"
   ]
  },
  {
   "cell_type": "code",
   "execution_count": 32,
   "id": "7cac2c0e-0c55-4d40-8e53-c68c8b185779",
   "metadata": {
    "tags": []
   },
   "outputs": [
    {
     "data": {
      "text/plain": [
       "space\n",
       "300     6416\n",
       "250     2669\n",
       "200     2465\n",
       "375     2018\n",
       "360     1928\n",
       "        ... \n",
       "1287       1\n",
       "3360       1\n",
       "3800       1\n",
       "3290       1\n",
       "1279       1\n",
       "Name: count, Length: 742, dtype: int64"
      ]
     },
     "execution_count": 32,
     "metadata": {},
     "output_type": "execute_result"
    }
   ],
   "source": [
    "df['space'].value_counts()"
   ]
  },
  {
   "cell_type": "code",
   "execution_count": 33,
   "id": "8cd5e2c2-17ab-443b-a5ae-054af10c9f43",
   "metadata": {
    "tags": []
   },
   "outputs": [
    {
     "data": {
      "text/plain": [
       "apartments\n",
       "0       14937\n",
       "0.0      7055\n",
       "1        3699\n",
       "2        3312\n",
       "1.0      2572\n",
       "2.0      2382\n",
       "1.0      1867\n",
       "2.0      1670\n",
       "3         621\n",
       "3.0       409\n",
       "3.0       407\n",
       "4         132\n",
       "4.0       116\n",
       "4.0       106\n",
       "5          13\n",
       "5.0         7\n",
       "8           6\n",
       "5.0         6\n",
       "6           5\n",
       "6.0         4\n",
       "15.0        3\n",
       "12          3\n",
       "30+         3\n",
       "10          3\n",
       "6.0         3\n",
       "10.0        3\n",
       "11          2\n",
       "7.0         2\n",
       "13.0        2\n",
       "11.0        2\n",
       "7.0         2\n",
       "14.0        2\n",
       "8.0         1\n",
       "23.0        1\n",
       "13.0        1\n",
       "15          1\n",
       "20          1\n",
       "14          1\n",
       "23          1\n",
       "16.0        1\n",
       "15.0        1\n",
       "9           1\n",
       "7           1\n",
       "12.0        1\n",
       "Name: count, dtype: int64"
      ]
     },
     "execution_count": 33,
     "metadata": {},
     "output_type": "execute_result"
    }
   ],
   "source": [
    "df['apartments'].value_counts()"
   ]
  },
  {
   "cell_type": "code",
   "execution_count": 34,
   "id": "39d9848a-7bde-4889-b1cc-3380882b8a6e",
   "metadata": {
    "tags": []
   },
   "outputs": [
    {
     "data": {
      "text/plain": [
       "array(['0', '2.0', '3.0', '1.0', '4.0', '7.0', '6.0', '1', '2', '3', '4',\n",
       "       '30+', '5', '6', '8', '12', '11', '7', '9', '5.0', '15.0', '16.0',\n",
       "       '13.0', '23', '10', '14', '20', '15', 2.0, 1.0, 0.0, 4.0, 3.0, 5.0,\n",
       "       8.0, 10.0, 6.0, 13.0, 11.0, 15.0, 7.0, 14.0, 23.0, 12.0],\n",
       "      dtype=object)"
      ]
     },
     "execution_count": 34,
     "metadata": {},
     "output_type": "execute_result"
    }
   ],
   "source": [
    "df['apartments'].unique()"
   ]
  },
  {
   "cell_type": "code",
   "execution_count": 35,
   "id": "0003d933-423d-4812-87c0-70b43a0152bf",
   "metadata": {
    "tags": []
   },
   "outputs": [],
   "source": [
    "#convert values into numerical format to handle non-numeric characters\n",
    "df['apartments'] = pd.to_numeric(df['apartments'].astype(str).str.replace('[^\\d.]', '', regex=True), errors='coerce')\n",
    "# then i will remove the +\n",
    "df['apartments'] = df['apartments'].replace('+', '')"
   ]
  },
  {
   "cell_type": "code",
   "execution_count": 36,
   "id": "d570ce6a-7256-4136-a68d-c00d3bf1e51c",
   "metadata": {
    "tags": []
   },
   "outputs": [
    {
     "data": {
      "text/plain": [
       "array([ 0.,  2.,  3.,  1.,  4.,  7.,  6., 30.,  5.,  8., 12., 11.,  9.,\n",
       "       15., 16., 13., 23., 10., 14., 20.])"
      ]
     },
     "execution_count": 36,
     "metadata": {},
     "output_type": "execute_result"
    }
   ],
   "source": [
    "df['apartments'].unique()"
   ]
  },
  {
   "cell_type": "code",
   "execution_count": 37,
   "id": "4e4db3f7-d468-435a-9ac2-09ae53bd47d3",
   "metadata": {
    "tags": []
   },
   "outputs": [
    {
     "data": {
      "text/plain": [
       "maidRoom\n",
       "1.0    30240\n",
       "0.0     9128\n",
       "Name: count, dtype: int64"
      ]
     },
     "execution_count": 37,
     "metadata": {},
     "output_type": "execute_result"
    }
   ],
   "source": [
    "df['maidRoom'].value_counts()"
   ]
  },
  {
   "cell_type": "code",
   "execution_count": 38,
   "id": "1be28b1e-08e6-4d0a-9a34-ce91905d251e",
   "metadata": {
    "tags": []
   },
   "outputs": [
    {
     "data": {
      "text/plain": [
       "elevator\n",
       "0.0    30105\n",
       "1.0     9263\n",
       "Name: count, dtype: int64"
      ]
     },
     "execution_count": 38,
     "metadata": {},
     "output_type": "execute_result"
    }
   ],
   "source": [
    "df['elevator'].value_counts()"
   ]
  },
  {
   "cell_type": "code",
   "execution_count": 39,
   "id": "4aefc668-5210-4723-adaf-45d8aa7e853e",
   "metadata": {
    "tags": []
   },
   "outputs": [
    {
     "data": {
      "text/plain": [
       "furnihsed\n",
       "0.0    36276\n",
       "1.0     3092\n",
       "Name: count, dtype: int64"
      ]
     },
     "execution_count": 39,
     "metadata": {},
     "output_type": "execute_result"
    }
   ],
   "source": [
    "df['furnihsed'].value_counts()"
   ]
  },
  {
   "cell_type": "code",
   "execution_count": 40,
   "id": "9c1a73f1-9e15-4821-8b66-911b64de99eb",
   "metadata": {
    "tags": []
   },
   "outputs": [
    {
     "data": {
      "text/plain": [
       "pool\n",
       "0.0    34862\n",
       "1.0     4506\n",
       "Name: count, dtype: int64"
      ]
     },
     "execution_count": 40,
     "metadata": {},
     "output_type": "execute_result"
    }
   ],
   "source": [
    "df['pool'].value_counts()"
   ]
  },
  {
   "cell_type": "code",
   "execution_count": 41,
   "id": "f0fe3de9-cfe3-4ba0-9857-08774cae083d",
   "metadata": {
    "tags": []
   },
   "outputs": [
    {
     "data": {
      "text/plain": [
       "basement\n",
       "0.0    37870\n",
       "1.0     1498\n",
       "Name: count, dtype: int64"
      ]
     },
     "execution_count": 41,
     "metadata": {},
     "output_type": "execute_result"
    }
   ],
   "source": [
    "df['basement'].value_counts()"
   ]
  },
  {
   "cell_type": "code",
   "execution_count": 42,
   "id": "154256ed-bee0-49b6-ad44-9a8771edd5d2",
   "metadata": {
    "tags": []
   },
   "outputs": [
    {
     "data": {
      "text/plain": [
       "location\n",
       "غرب الرياض     11425\n",
       "شرق الرياض     10927\n",
       "شمال الرياض     9378\n",
       "جنوب الرياض     7453\n",
       "وسط الرياض       185\n",
       "Name: count, dtype: int64"
      ]
     },
     "execution_count": 42,
     "metadata": {},
     "output_type": "execute_result"
    }
   ],
   "source": [
    "df['location'].value_counts()"
   ]
  },
  {
   "cell_type": "code",
   "execution_count": 43,
   "id": "466992a4-2e38-449b-80df-4e257f5c3a91",
   "metadata": {
    "tags": []
   },
   "outputs": [],
   "source": [
    "# converting the values to English:\n",
    "location = {\n",
    "    'غرب الرياض': 'West of Riyadh',\n",
    "    'شرق الرياض': 'East of Riyadh',\n",
    "    'شمال الرياض': 'North of Riyadh',\n",
    "    'جنوب الرياض': 'South of Riyadh',\n",
    "    'وسط الرياض': 'Central Riyadh'\n",
    "}\n",
    "df['location'] = df['location'].replace(location)"
   ]
  },
  {
   "cell_type": "code",
   "execution_count": 44,
   "id": "019e4c65-6dff-49c3-bac4-45b923135af7",
   "metadata": {
    "tags": []
   },
   "outputs": [
    {
     "data": {
      "text/plain": [
       "location\n",
       "West of Riyadh     11425\n",
       "East of Riyadh     10927\n",
       "North of Riyadh     9378\n",
       "South of Riyadh     7453\n",
       "Central Riyadh       185\n",
       "Name: count, dtype: int64"
      ]
     },
     "execution_count": 44,
     "metadata": {},
     "output_type": "execute_result"
    }
   ],
   "source": [
    "df['location'].value_counts()"
   ]
  },
  {
   "cell_type": "code",
   "execution_count": 45,
   "id": "e9ee1911-14e3-4805-925f-29175cb82d16",
   "metadata": {
    "tags": []
   },
   "outputs": [
    {
     "data": {
      "text/plain": [
       "price\n",
       "1200000.0     1318\n",
       "1100000.0     1194\n",
       "1600000.0     1138\n",
       "1300000.0     1077\n",
       "1500000.0     1061\n",
       "              ... \n",
       "10600000.0       1\n",
       "4446000.0        1\n",
       "3406250.0        1\n",
       "2770000.0        1\n",
       "855000.0         1\n",
       "Name: count, Length: 672, dtype: int64"
      ]
     },
     "execution_count": 45,
     "metadata": {},
     "output_type": "execute_result"
    }
   ],
   "source": [
    "df['price'].value_counts()"
   ]
  },
  {
   "cell_type": "code",
   "execution_count": 46,
   "id": "74e13e31-6cc3-455b-9ead-ac7022817215",
   "metadata": {
    "tags": []
   },
   "outputs": [
    {
     "data": {
      "text/plain": [
       "square price\n",
       "5000.000000    1001\n",
       "4000.000000     814\n",
       "4166.666667     470\n",
       "5500.000000     447\n",
       "5333.333333     405\n",
       "               ... \n",
       "2719.298246       1\n",
       "5087.209302       1\n",
       "4908.675799       1\n",
       "4051.863857       1\n",
       "3288.461538       1\n",
       "Name: count, Length: 4917, dtype: int64"
      ]
     },
     "execution_count": 46,
     "metadata": {},
     "output_type": "execute_result"
    }
   ],
   "source": [
    "df['square price'].value_counts()"
   ]
  },
  {
   "cell_type": "code",
   "execution_count": 47,
   "id": "0e655341-3342-48fa-b5cc-1f6832006dd7",
   "metadata": {
    "tags": []
   },
   "outputs": [],
   "source": [
    "# Some columns values are 1,0 we will replace these with Yes,No \n",
    "# code={  0.0 : 'No' ,\n",
    "#         1.0 : 'Yes'\n",
    "#      }\n",
    "# columns_to_replace =  ['stairs','driverRoom','tent','patio','kitchen','outdoorRoom','garage','duplex','space',\n",
    "#                        'maidRoom','elevator','furnihsed','pool','basement']\n",
    "\n",
    "# df[columns_to_replace] = df[columns_to_replace].replace(code)\n"
   ]
  },
  {
   "cell_type": "code",
   "execution_count": 49,
   "id": "7f947939-5c16-4464-97ac-1e7be54bfe7c",
   "metadata": {
    "tags": []
   },
   "outputs": [
    {
     "data": {
      "text/plain": [
       "neighbourhood\n",
       " طويق                         6540\n",
       " الرمال                       3571\n",
       " النرجس                       2600\n",
       " عكاظ                         2582\n",
       " بدر                          2319\n",
       "                              ... \n",
       "مد                               1\n",
       " المدينة الصناعية الثانية        1\n",
       "ي بن محمد الغرناطي               1\n",
       "رة فان                           1\n",
       "اص                               1\n",
       "Name: count, Length: 295, dtype: int64"
      ]
     },
     "execution_count": 49,
     "metadata": {},
     "output_type": "execute_result"
    }
   ],
   "source": [
    "df['neighbourhood'].value_counts()"
   ]
  },
  {
   "cell_type": "code",
   "execution_count": 50,
   "id": "be6ecfa7-2726-42f1-9cfa-d77fb6b94b9d",
   "metadata": {
    "tags": []
   },
   "outputs": [
    {
     "data": {
      "text/plain": [
       "array([' عكاظ ', ' المهدية ', ' الشفا ', ' ظهرة لبن ', ' قرطبة ',\n",
       "       ' السويدي ', ' الروضة ', ' القادسية ', ' بدر ',\n",
       "       ' المدينة الصناعية الجديدة ', ' الجنادرية ', ' الفاخرية ',\n",
       "       ' الشرق ', ' العارض ', ' الدار البيضاء ', ' الحمراء ', ' طويق ',\n",
       "       ' احد ', ' النهضة ', ' الخليج ', ' اشبيلية ', ' الملك فيصل ',\n",
       "       ' النسيم الغربي ', ' الرمال ', ' حطين ', ' الريان ', ' النرجس ',\n",
       "       ' الحزم ', ' السلام ', ' طيبة ', 'ان مولى قريش ', ' الصحافة ',\n",
       "       ' العزيزية ', ' الفلاح ', ' الملقا ', ' الرحمانية ', ' النرجس',\n",
       "       ' الندوة ', ' نمار ', ' ديراب ', ' المعيزيلة ', ' ظهرة نمار ',\n",
       "       ' مطار الملك خالد الدولي ', ' الغدير ', 'ه بن خليفه ',\n",
       "       ' القيروان ', ' العوالي ', ' المونسية ', ' العريجاء الغربية ',\n",
       "       'ى العصامي ', ' الياسمين ', ' أم الحمام الغربي ', 'ة نمار ',\n",
       "       ' الربوة ', ' الملك فهد ', ' النخيل ', ' اليمامة ', ' اليرموك ',\n",
       "       ' الدريهمية ', ' ظهرة البديعة ', 'ى الفرضي ', 'ى بن مسعود ',\n",
       "       ' عريض ', ' النفل ', ' الاندلس ', ' المعذر ', ' الزهرة ',\n",
       "       ' السلي ', ' البيان ', ' الندى ', ' الخير ', ' الروابي ',\n",
       "       ' العقيق ', 'م بن عساكر ', ' سلطانة ', ' السعادة ', ' الجزيرة ',\n",
       "       'م قاضي ', ' الواحة ', ' العليا ', ' المروة ', 'ان بن عبدالله ',\n",
       "       ' السويدي الغربي ', ' غرناطة ', ' الازدهار ', ' السليمانية ',\n",
       "       ' عرقة ', 'ي الدين البغوي ', ' الفاروق ', 'ى السديد ',\n",
       "       ' الفيصلية ', ' الرمال', ' النسيم الشرقي ', ' الفيحاء ', ' الملز ',\n",
       "       ' الانسي ', ' شبرا ', ' الربيع ', ' غبيرة ', 'ة ', ' عليشة ',\n",
       "       'ده بن معاويه ', ' الحائر ', ' النظيم ', ' المنار ',\n",
       "       ' صلاح الدين ', ' الورود ', 'ة بن خليفة الكلبي ', ' أحد ',\n",
       "       ' الرائد ', 'م بن الفرس ', ' المنصورة ', ' الهدا ', ' المربع ',\n",
       "       ' المصيف ', ' القدس ', 'مي ', ' الخزامى ', ' منفوحة الجديدة ',\n",
       "       ' المرسلات ', ' النزهة ', ' العريجاء الوسطى ', 'ى بن عبيد ',\n",
       "       ' بدر', ' التعاون ', ' عتيقة ', 'ط ', ' ابو خضير ', 'د ',\n",
       "       ' القيروان', 'ى بن جزلة ', 'ى المعلمي ', ' عكاظ', 'م الحريمي ',\n",
       "       ' المنصورية ', 'ى بن ابراهيم الطالبي ', ' الوادي ', ' أحمد السف ',\n",
       "       'م الكناني ', ' اسكان وزارة الداخلية ', 'صن ', ' المحمدية ',\n",
       "       'رات ', 'ى الأزدي ', 'ى ', 'مية ', 'ى الطبري ', 'ه ', ' المروج ',\n",
       "       ' المغرزات ', 'ى الطائي ', 'ى السعدي ', ' خشم العان ',\n",
       "       'م بن القابلة ', 'ى المدني ', ' الحزم', ' عقرباء ', 'ى المفتي ',\n",
       "       ' بن عمر الملتوني ', ' كمال ', 'ى بن عدى ', 'ى الانباري ',\n",
       "       'ى مؤذن ', 'ى بن اكثم ', ' الوشام ', 'سيه ', ' هجرة لبن ',\n",
       "       ' الكتاني ', ' البديعة ', 'ي بن عدي ', ' الشهداء ', ' المرقب ',\n",
       "       'ى بن عبدالله ', 'ى بن خالد البرمكي ', 'ى بن البناء ',\n",
       "       'ى الواسطي ', 'ري ', ' الملك عبدالله ', ' الغنامية ',\n",
       "       'ى الصنهاجي ', ' الخالدية ', ' الضباط ', 'ى بن يى القرطبي ',\n",
       "       'ى بن محمد الغرناطي ', ' السلمانية ', 'م ', ' المصانع ', 'اني ',\n",
       "       'ى بن قزعة القرشي ', ' لبن ', 'ى الذماري ', 'اه ',\n",
       "       'ى بن عبدالعزيز ', ' الشرفية ', 'ى الجفصي ', ' الاسكان ', 'ان ',\n",
       "       'ى بن أبي بكر ', 'ى الوراق ', 'ى الزبيدي ', 'ى السلمي ', 'ل ',\n",
       "       'وة بن شريح ', ' منفوحة ', ' الرفيعة ', 'ى بن القاسم ', ' الصفا ',\n",
       "       ' العمل ', 'سية ', 'اء ', ' جرير ', ' الزهراء ', 'ى الكوفي ',\n",
       "       ' المعذر الشمالي ', 'ى محمد الب ', 'ي الدين النيسابوري ',\n",
       "       'م المغربي ', 'ميات ', 'ي بن محمد الغرناطي ', 'ذيف ', ' البرية ',\n",
       "       'فات ', 'ى الشاذلي ', 'رة ', 'ى الطالبي ', 'اء البغدادية ',\n",
       "       'ى - الجبيلة ', 'ى الطائفي ', 'ى بن عبدالرحمن ', 'ى بن إسماعيل ',\n",
       "       'ى بن قاسم ', ' لقاح', 'ى الانسي ', 'ى التيمي ', 'دره التونسي ',\n",
       "       ' ثليم ', 'باني ', ' ام سليم ', ' المعيزلة ', 'ف العنبري ', 'ون ',\n",
       "       'ى الرازي ', 'ى بن بكير ', ' العود ', ' العريجاء الغربي ',\n",
       "       'ى بن المقداد ', 'ى الغرناطي ', 'درة بن علي ', ' أبي خضير ',\n",
       "       ' أم الحمام الشرقي ', 'ى بن خلدون ', ' المونسية', ' المعذر',\n",
       "       'ى القفصي ', 'مد ', ' المدينة الصناعية الثانية ', 'ى الأنسي ',\n",
       "       'رة فان ', 'ى محمد يى الش ', 'ن ', 'رة النوبة ',\n",
       "       ' الملك عبدالعزيز ', ' المجد', 'م الصديقي ', 'ى بن صديق ',\n",
       "       ' العريجاء ', ' رفه ', 'اض بن قيس بن الأعور ', 'ى بن عميرة ',\n",
       "       ' المناخ ', ' بنبان ', 'ي بن خالد البرمكي ', ' الوزارات ',\n",
       "       ' الجرداء', 'ى التنوخي ', 'ى بن غيهب ', ' السدوسي ', 'ى امان ',\n",
       "       'ى البرمكي ', 'م الخزرجي ', ' ام الشعال ', ' قرطبة',\n",
       "       ' محمد سحاري ', 'ويه ', 'مة ', 'ى الانطاكي ', 'ي بن المبارك ',\n",
       "       'وس ', 'ى الغماري ', ' الجرادية ', ' الربيع الشرقي ٢ ', ' التقوى ',\n",
       "       'فا ', 'ا ', 'اص '], dtype=object)"
      ]
     },
     "execution_count": 50,
     "metadata": {},
     "output_type": "execute_result"
    }
   ],
   "source": [
    "df['neighbourhood'].unique()"
   ]
  },
  {
   "cell_type": "code",
   "execution_count": 51,
   "id": "b0462e80-1119-4850-b865-6744f41d0d15",
   "metadata": {
    "tags": []
   },
   "outputs": [],
   "source": [
    "# there are issues in some neighbourhood names, i am going to delete the damaged names"
   ]
  },
  {
   "cell_type": "code",
   "execution_count": 52,
   "id": "e6f24b59-2cb6-4997-ae08-793b1ad3175a",
   "metadata": {
    "tags": []
   },
   "outputs": [],
   "source": [
    "df['neighbourhood'] = df['neighbourhood'].str.strip()\n",
    "import re\n",
    "pattern1 = r'^[\\u0600-\\u06FF]\\s'\n",
    "pattern2 = r'.{0,2}$'\n",
    "combined_pattern = re.compile(pattern1 + r'|' + pattern2)\n",
    "df = df[~df['neighbourhood'].str.match(combined_pattern)]\n",
    "# now i will delete the remaining of damaged names:\n",
    "damaged_names = ['ان مولى قريش','اني','ان بن عبدالله','مية','رات','ده بن معاويه','فات','ذيف','ميات','وة بن شريح','رة فان','اض بن قيس بن الأعور',\n",
    "'رة النوبة','رفه','اء البغدادية','ويه','أحمد السف']\n",
    "df = df[~df['neighbourhood'].str.contains('|'.join(damaged_names))]"
   ]
  },
  {
   "cell_type": "code",
   "execution_count": 53,
   "id": "5442a947-1097-4612-baec-31884af9ebb9",
   "metadata": {
    "tags": []
   },
   "outputs": [
    {
     "data": {
      "text/plain": [
       "array(['عكاظ', 'المهدية', 'الشفا', 'ظهرة لبن', 'قرطبة', 'السويدي',\n",
       "       'الروضة', 'القادسية', 'بدر', 'المدينة الصناعية الجديدة',\n",
       "       'الجنادرية', 'الفاخرية', 'الشرق', 'العارض', 'الدار البيضاء',\n",
       "       'الحمراء', 'طويق', 'احد', 'النهضة', 'الخليج', 'اشبيلية',\n",
       "       'الملك فيصل', 'النسيم الغربي', 'الرمال', 'حطين', 'الريان',\n",
       "       'النرجس', 'الحزم', 'السلام', 'طيبة', 'الصحافة', 'العزيزية',\n",
       "       'الفلاح', 'الملقا', 'الندوة', 'نمار', 'ديراب', 'المعيزيلة',\n",
       "       'ظهرة نمار', 'مطار الملك خالد الدولي', 'الغدير', 'القيروان',\n",
       "       'العوالي', 'المونسية', 'العريجاء الغربية', 'الياسمين',\n",
       "       'أم الحمام الغربي', 'الربوة', 'الملك فهد', 'النخيل', 'اليمامة',\n",
       "       'اليرموك', 'ظهرة البديعة', 'عريض', 'النفل', 'الاندلس', 'المعذر',\n",
       "       'الزهرة', 'السلي', 'البيان', 'الندى', 'الخير', 'الروابي', 'العقيق',\n",
       "       'سلطانة', 'السعادة', 'الجزيرة', 'الواحة', 'العليا', 'المروة',\n",
       "       'السويدي الغربي', 'غرناطة', 'الازدهار', 'عرقة', 'الفاروق',\n",
       "       'الفيصلية', 'النسيم الشرقي', 'الفيحاء', 'الملز', 'الانسي', 'شبرا',\n",
       "       'الربيع', 'غبيرة', 'عليشة', 'الحائر', 'النظيم', 'المنار',\n",
       "       'صلاح الدين', 'الورود', 'أحد', 'الرائد', 'المنصورة', 'الهدا',\n",
       "       'المربع', 'المصيف', 'القدس', 'الخزامى', 'منفوحة الجديدة',\n",
       "       'المرسلات', 'النزهة', 'العريجاء الوسطى', 'التعاون', 'عتيقة',\n",
       "       'ابو خضير', 'المنصورية', 'الوادي', 'اسكان وزارة الداخلية',\n",
       "       'المحمدية', 'المروج', 'المغرزات', 'خشم العان', 'عقرباء',\n",
       "       'بن عمر الملتوني', 'كمال', 'الوشام', 'سيه', 'هجرة لبن', 'البديعة',\n",
       "       'الشهداء', 'المرقب', 'الملك عبدالله', 'الخالدية', 'الضباط',\n",
       "       'المصانع', 'لبن', 'الشرفية', 'الاسكان', 'منفوحة', 'الرفيعة',\n",
       "       'الصفا', 'العمل', 'سية', 'جرير', 'الزهراء', 'المعذر الشمالي',\n",
       "       'البرية', 'لقاح', 'دره التونسي', 'ثليم', 'ام سليم', 'المعيزلة',\n",
       "       'العود', 'العريجاء الغربي', 'درة بن علي', 'أبي خضير',\n",
       "       'أم الحمام الشرقي', 'الملك عبدالعزيز', 'المجد', 'العريجاء',\n",
       "       'المناخ', 'بنبان', 'الجرداء', 'السدوسي', 'ام الشعال', 'محمد سحاري',\n",
       "       'الجرادية', 'الربيع الشرقي ٢', 'التقوى'], dtype=object)"
      ]
     },
     "execution_count": 53,
     "metadata": {},
     "output_type": "execute_result"
    }
   ],
   "source": [
    "df['neighbourhood'].unique()"
   ]
  },
  {
   "cell_type": "code",
   "execution_count": 54,
   "id": "4f39f5c9-fcfb-4cde-98da-940b55421893",
   "metadata": {
    "tags": []
   },
   "outputs": [
    {
     "data": {
      "text/plain": [
       "158"
      ]
     },
     "execution_count": 54,
     "metadata": {},
     "output_type": "execute_result"
    }
   ],
   "source": [
    "len(df['neighbourhood'].unique())"
   ]
  },
  {
   "cell_type": "markdown",
   "id": "cdaec203-470d-4f20-a618-7ec7b180f9e9",
   "metadata": {},
   "source": [
    "### Now we will dealing with missing values:"
   ]
  },
  {
   "cell_type": "code",
   "execution_count": 55,
   "id": "8c043196-758d-4a4d-b4b4-ad7881a4a1a9",
   "metadata": {
    "tags": []
   },
   "outputs": [
    {
     "data": {
      "text/plain": [
       "front              0\n",
       "rooms              0\n",
       "lounges          851\n",
       "bathrooms          0\n",
       "streetWidth      148\n",
       "stairs             0\n",
       "propertyAge        0\n",
       "driverRoom         0\n",
       "tent               0\n",
       "patio              0\n",
       "kitchen            0\n",
       "outdoorRoom        0\n",
       "garage             0\n",
       "duplex             0\n",
       "space              0\n",
       "apartments         0\n",
       "maidRoom           0\n",
       "elevator           0\n",
       "furnihsed          0\n",
       "pool               0\n",
       "basement           0\n",
       "neighbourhood      0\n",
       "location           0\n",
       "price              2\n",
       "square price       2\n",
       "dtype: int64"
      ]
     },
     "execution_count": 55,
     "metadata": {},
     "output_type": "execute_result"
    }
   ],
   "source": [
    "df.isna().sum()"
   ]
  },
  {
   "cell_type": "code",
   "execution_count": 56,
   "id": "f3abdb75-9d06-4006-b312-5fda0bfb5135",
   "metadata": {
    "tags": []
   },
   "outputs": [],
   "source": [
    "# dealing with lounges missing values, by taking the mean of lounge numbers for the same space villas"
   ]
  },
  {
   "cell_type": "code",
   "execution_count": 57,
   "id": "29760b64-dd66-4f86-ad4a-443b5ae7618d",
   "metadata": {
    "tags": []
   },
   "outputs": [],
   "source": [
    "df['lounges'] = pd.to_numeric(df['lounges'], errors='coerce')"
   ]
  },
  {
   "cell_type": "code",
   "execution_count": 58,
   "id": "e18a4a07-1b10-43e6-ae26-62c8fc341fae",
   "metadata": {
    "tags": []
   },
   "outputs": [],
   "source": [
    "missing_lounges = df[df['lounges'].isnull()]"
   ]
  },
  {
   "cell_type": "code",
   "execution_count": 59,
   "id": "fc90a963-a9e7-4f88-adeb-598b6ff1a9a1",
   "metadata": {
    "tags": []
   },
   "outputs": [],
   "source": [
    "for index , row in missing_lounges.iterrows() : \n",
    "    space_value = row['space']\n",
    "    closest_rows = df.iloc[(df['space'] - space_value).abs().argsort()]\n",
    "    mean_lounges = closest_rows['lounges'].mean()\n",
    "    df.at[index,'lounges'] = mean_lounges\n",
    "    "
   ]
  },
  {
   "cell_type": "code",
   "execution_count": 60,
   "id": "f5c407ee-5152-4b23-9026-b946c1606b87",
   "metadata": {
    "tags": []
   },
   "outputs": [],
   "source": [
    "# dealing with street width missing values, by taking the mean of street width for the same space villas"
   ]
  },
  {
   "cell_type": "code",
   "execution_count": 61,
   "id": "acb00ada-8a1f-4da1-acdf-28ea9b7c6e7e",
   "metadata": {
    "tags": []
   },
   "outputs": [],
   "source": [
    "missing_streetWidth = df[df['streetWidth'].isnull()]"
   ]
  },
  {
   "cell_type": "code",
   "execution_count": 62,
   "id": "91764d15-40f6-4ae0-b683-2c6304331226",
   "metadata": {
    "tags": []
   },
   "outputs": [],
   "source": [
    "for index , row in missing_streetWidth.iterrows() : \n",
    "    space_value = row['space']\n",
    "    closest_rows = df.iloc[(df['space'] - space_value).abs().argsort()]\n",
    "    mean_width = closest_rows['streetWidth'].mean()\n",
    "    df.at[index,'streetWidth'] = mean_width\n",
    "    "
   ]
  },
  {
   "cell_type": "code",
   "execution_count": 63,
   "id": "f470a4d9-c0c3-47a2-bf4d-f0c59eec14b0",
   "metadata": {
    "tags": []
   },
   "outputs": [],
   "source": [
    "# dealing with missing values in price and square price, by deleting the missing values "
   ]
  },
  {
   "cell_type": "code",
   "execution_count": 64,
   "id": "7cb2bca7-ef16-4105-8a56-c8549069b359",
   "metadata": {
    "tags": []
   },
   "outputs": [],
   "source": [
    "df.dropna(subset=['price', 'square price'], inplace=True)"
   ]
  },
  {
   "cell_type": "code",
   "execution_count": 65,
   "id": "0276379c-df1c-4a3e-9ee2-dfa12dcc5e18",
   "metadata": {
    "tags": []
   },
   "outputs": [
    {
     "data": {
      "text/plain": [
       "front            0\n",
       "rooms            0\n",
       "lounges          0\n",
       "bathrooms        0\n",
       "streetWidth      0\n",
       "stairs           0\n",
       "propertyAge      0\n",
       "driverRoom       0\n",
       "tent             0\n",
       "patio            0\n",
       "kitchen          0\n",
       "outdoorRoom      0\n",
       "garage           0\n",
       "duplex           0\n",
       "space            0\n",
       "apartments       0\n",
       "maidRoom         0\n",
       "elevator         0\n",
       "furnihsed        0\n",
       "pool             0\n",
       "basement         0\n",
       "neighbourhood    0\n",
       "location         0\n",
       "price            0\n",
       "square price     0\n",
       "dtype: int64"
      ]
     },
     "execution_count": 65,
     "metadata": {},
     "output_type": "execute_result"
    }
   ],
   "source": [
    "df.isna().sum()"
   ]
  },
  {
   "cell_type": "markdown",
   "id": "085c38d1-e728-4a0d-ba9b-ed8c0e3b3e65",
   "metadata": {
    "tags": []
   },
   "source": [
    "### Checking and fixing the data types:"
   ]
  },
  {
   "cell_type": "code",
   "execution_count": 66,
   "id": "e8a8a678-bcbf-482e-877e-16727ecec111",
   "metadata": {
    "tags": []
   },
   "outputs": [
    {
     "data": {
      "text/plain": [
       "front             object\n",
       "rooms              int64\n",
       "lounges          float64\n",
       "bathrooms         object\n",
       "streetWidth      float64\n",
       "stairs            object\n",
       "propertyAge      float64\n",
       "driverRoom        object\n",
       "tent              object\n",
       "patio             object\n",
       "kitchen           object\n",
       "outdoorRoom       object\n",
       "garage            object\n",
       "duplex            object\n",
       "space              int64\n",
       "apartments       float64\n",
       "maidRoom          object\n",
       "elevator          object\n",
       "furnihsed         object\n",
       "pool              object\n",
       "basement          object\n",
       "neighbourhood     object\n",
       "location          object\n",
       "price            float64\n",
       "square price     float64\n",
       "dtype: object"
      ]
     },
     "execution_count": 66,
     "metadata": {},
     "output_type": "execute_result"
    }
   ],
   "source": [
    "df.dtypes"
   ]
  },
  {
   "cell_type": "code",
   "execution_count": 67,
   "id": "e89e7ee4-f3c4-4e75-8a0f-b60b806f6924",
   "metadata": {
    "tags": []
   },
   "outputs": [],
   "source": [
    "df['bathrooms'] = df['bathrooms'].astype('int64')\n",
    "df['lounges'] = df['lounges'].astype('int64')\n",
    "df['streetWidth'] = df['streetWidth'].astype('int64')\n",
    "df['propertyAge'] = df['propertyAge'].astype('int64')\n",
    "df['apartments'] = df['apartments'].astype('int64')"
   ]
  },
  {
   "cell_type": "code",
   "execution_count": 68,
   "id": "e698dfae-697a-46b7-b91c-bf0e4db0836d",
   "metadata": {
    "tags": []
   },
   "outputs": [
    {
     "data": {
      "text/plain": [
       "front             object\n",
       "rooms              int64\n",
       "lounges            int64\n",
       "bathrooms          int64\n",
       "streetWidth        int64\n",
       "stairs            object\n",
       "propertyAge        int64\n",
       "driverRoom        object\n",
       "tent              object\n",
       "patio             object\n",
       "kitchen           object\n",
       "outdoorRoom       object\n",
       "garage            object\n",
       "duplex            object\n",
       "space              int64\n",
       "apartments         int64\n",
       "maidRoom          object\n",
       "elevator          object\n",
       "furnihsed         object\n",
       "pool              object\n",
       "basement          object\n",
       "neighbourhood     object\n",
       "location          object\n",
       "price            float64\n",
       "square price     float64\n",
       "dtype: object"
      ]
     },
     "execution_count": 68,
     "metadata": {},
     "output_type": "execute_result"
    }
   ],
   "source": [
    "df.dtypes"
   ]
  },
  {
   "cell_type": "markdown",
   "id": "49ea0fb4-aab2-4273-8df2-97c697756fd0",
   "metadata": {},
   "source": [
    "### Finding the correlation between data:"
   ]
  },
  {
   "cell_type": "code",
   "execution_count": 69,
   "id": "06d71ea9-04b9-48da-a76d-18064b138587",
   "metadata": {
    "tags": []
   },
   "outputs": [
    {
     "data": {
      "image/png": "[encoded data removed]",
      "text/plain": [
       "<Figure size 1000x800 with 2 Axes>"
      ]
     },
     "metadata": {},
     "output_type": "display_data"
    },
    {
     "name": "stdout",
     "output_type": "stream",
     "text": [
      "Top correlated features with the price:\n",
      "price           1.000000\n",
      "space           0.697610\n",
      "square price    0.612023\n",
      "lounges         0.127284\n",
      "propertyAge     0.078187\n",
      "Name: price, dtype: float64\n"
     ]
    }
   ],
   "source": [
    "numeric_columns=['rooms','lounges','bathrooms','streetWidth','propertyAge','space','apartments','price','square price']\n",
    "target_variable = 'price'\n",
    "# Compute the correlation matrix\n",
    "correlation_matrix = df[numeric_columns].corr()\n",
    "\n",
    "# Visualize the correlations using a heatmap\n",
    "plt.figure(figsize=(10, 8))\n",
    "sns.heatmap(correlation_matrix, annot=True, cmap='coolwarm', fmt=\".2f\", linewidths=0.5)\n",
    "plt.title(\"Correlation Matrix\")\n",
    "plt.show()\n",
    "\n",
    "# Identify features with high correlations\n",
    "sorted_correlations = correlation_matrix[target_variable].sort_values(ascending=False)\n",
    "print(\"Top correlated features with the price:\")\n",
    "print(sorted_correlations.head())"
   ]
  },
  {
   "cell_type": "markdown",
   "id": "18bb8cd8-832b-440a-bc75-b08e01b6f4f3",
   "metadata": {},
   "source": [
    "### Finding the outliers in data:\n",
    "while exploring the data I think two columns may contain outliers (price, square price)"
   ]
  },
  {
   "cell_type": "code",
   "execution_count": 70,
   "id": "98aaca70-1086-4a54-b05d-2e76f55196ff",
   "metadata": {
    "tags": []
   },
   "outputs": [
    {
     "data": {
      "image/png": "[encoded data removed]",
      "text/plain": [
       "<Figure size 1000x600 with 1 Axes>"
      ]
     },
     "metadata": {},
     "output_type": "display_data"
    }
   ],
   "source": [
    "# i will plot the boxplot to check for outliers:\n",
    "plt.figure(figsize=(10, 6))\n",
    "df.boxplot(column=['price','square price'])\n",
    "plt.xlabel(\"Values\")\n",
    "plt.xticks(rotation=45, ha=\"right\")\n",
    "plt.show()"
   ]
  },
  {
   "cell_type": "code",
   "execution_count": 71,
   "id": "7934791b-3dbc-446c-873c-8ffd9ed82119",
   "metadata": {
    "tags": []
   },
   "outputs": [],
   "source": [
    "# Calculate Q1, Q3, and IQR for 'price' and 'square price'\n",
    "Q1_price = df['price'].quantile(0.25)\n",
    "Q3_price = df['price'].quantile(0.75)\n",
    "IQR_price = Q3_price - Q1_price\n",
    "\n",
    "Q1_square_price = df['square price'].quantile(0.25)\n",
    "Q3_square_price = df['square price'].quantile(0.75)\n",
    "IQR_square_price = Q3_square_price - Q1_square_price\n",
    "\n",
    "# Identify outliers\n",
    "outliers_price = df[(df['price'] < Q1_price - 1.5 * IQR_price) | (df['price'] > Q3_price + 1.5 * IQR_price)]\n",
    "outliers_square_price = df[(df['square price'] < Q1_square_price - 1.5 * IQR_square_price) | (df['square price'] > Q3_square_price + 1.5 * IQR_square_price)]\n",
    "\n",
    "# Remove outliers\n",
    "df_cleaned = df[~df.index.isin(outliers_price.index) & ~df.index.isin(outliers_square_price.index)]"
   ]
  },
  {
   "cell_type": "code",
   "execution_count": 72,
   "id": "31a533fd-3365-49e3-834e-383907ceb1e2",
   "metadata": {
    "tags": []
   },
   "outputs": [
    {
     "data": {
      "image/png": "[encoded data removed]",
      "text/plain": [
       "<Figure size 1000x600 with 1 Axes>"
      ]
     },
     "metadata": {},
     "output_type": "display_data"
    }
   ],
   "source": [
    "plt.figure(figsize=(10, 6))\n",
    "df_cleaned.boxplot(column=['price','square price'])\n",
    "plt.xlabel(\"Values\")\n",
    "plt.xticks(rotation=45, ha=\"right\")\n",
    "plt.show()"
   ]
  },
  {
   "cell_type": "code",
   "execution_count": 73,
   "id": "2d477c9a-c7ff-49f0-b52d-c232f4a61626",
   "metadata": {
    "tags": []
   },
   "outputs": [
    {
     "data": {
      "text/html": [
       "<div>\n",
       "<style scoped>\n",
       "    .dataframe tbody tr th:only-of-type {\n",
       "        vertical-align: middle;\n",
       "    }\n",
       "\n",
       "    .dataframe tbody tr th {\n",
       "        vertical-align: top;\n",
       "    }\n",
       "\n",
       "    .dataframe thead th {\n",
       "        text-align: right;\n",
       "    }\n",
       "</style>\n",
       "<table border=\"1\" class=\"dataframe\">\n",
       "  <thead>\n",
       "    <tr style=\"text-align: right;\">\n",
       "      <th></th>\n",
       "      <th>front</th>\n",
       "      <th>rooms</th>\n",
       "      <th>lounges</th>\n",
       "      <th>bathrooms</th>\n",
       "      <th>streetWidth</th>\n",
       "      <th>stairs</th>\n",
       "      <th>propertyAge</th>\n",
       "      <th>driverRoom</th>\n",
       "      <th>tent</th>\n",
       "      <th>patio</th>\n",
       "      <th>...</th>\n",
       "      <th>apartments</th>\n",
       "      <th>maidRoom</th>\n",
       "      <th>elevator</th>\n",
       "      <th>furnihsed</th>\n",
       "      <th>pool</th>\n",
       "      <th>basement</th>\n",
       "      <th>neighbourhood</th>\n",
       "      <th>location</th>\n",
       "      <th>price</th>\n",
       "      <th>square price</th>\n",
       "    </tr>\n",
       "  </thead>\n",
       "  <tbody>\n",
       "    <tr>\n",
       "      <th>0</th>\n",
       "      <td>E</td>\n",
       "      <td>5</td>\n",
       "      <td>4</td>\n",
       "      <td>5</td>\n",
       "      <td>20</td>\n",
       "      <td>Yes</td>\n",
       "      <td>0</td>\n",
       "      <td>Yes</td>\n",
       "      <td>Yes</td>\n",
       "      <td>Yes</td>\n",
       "      <td>...</td>\n",
       "      <td>0</td>\n",
       "      <td>No</td>\n",
       "      <td>No</td>\n",
       "      <td>No</td>\n",
       "      <td>No</td>\n",
       "      <td>No</td>\n",
       "      <td>عكاظ</td>\n",
       "      <td>South of Riyadh</td>\n",
       "      <td>1050000.0</td>\n",
       "      <td>3500.000000</td>\n",
       "    </tr>\n",
       "    <tr>\n",
       "      <th>1</th>\n",
       "      <td>W</td>\n",
       "      <td>4</td>\n",
       "      <td>3</td>\n",
       "      <td>5</td>\n",
       "      <td>20</td>\n",
       "      <td>Yes</td>\n",
       "      <td>0</td>\n",
       "      <td>Yes</td>\n",
       "      <td>Yes</td>\n",
       "      <td>Yes</td>\n",
       "      <td>...</td>\n",
       "      <td>2</td>\n",
       "      <td>Yes</td>\n",
       "      <td>Yes</td>\n",
       "      <td>No</td>\n",
       "      <td>No</td>\n",
       "      <td>No</td>\n",
       "      <td>المهدية</td>\n",
       "      <td>West of Riyadh</td>\n",
       "      <td>3000000.0</td>\n",
       "      <td>5555.555556</td>\n",
       "    </tr>\n",
       "    <tr>\n",
       "      <th>2</th>\n",
       "      <td>SE</td>\n",
       "      <td>7</td>\n",
       "      <td>2</td>\n",
       "      <td>5</td>\n",
       "      <td>15</td>\n",
       "      <td>Yes</td>\n",
       "      <td>31</td>\n",
       "      <td>Yes</td>\n",
       "      <td>No</td>\n",
       "      <td>Yes</td>\n",
       "      <td>...</td>\n",
       "      <td>0</td>\n",
       "      <td>Yes</td>\n",
       "      <td>No</td>\n",
       "      <td>No</td>\n",
       "      <td>No</td>\n",
       "      <td>No</td>\n",
       "      <td>الشفا</td>\n",
       "      <td>South of Riyadh</td>\n",
       "      <td>2000000.0</td>\n",
       "      <td>2285.714286</td>\n",
       "    </tr>\n",
       "    <tr>\n",
       "      <th>3</th>\n",
       "      <td>W</td>\n",
       "      <td>7</td>\n",
       "      <td>3</td>\n",
       "      <td>5</td>\n",
       "      <td>15</td>\n",
       "      <td>Yes</td>\n",
       "      <td>3</td>\n",
       "      <td>No</td>\n",
       "      <td>Yes</td>\n",
       "      <td>Yes</td>\n",
       "      <td>...</td>\n",
       "      <td>0</td>\n",
       "      <td>Yes</td>\n",
       "      <td>No</td>\n",
       "      <td>Yes</td>\n",
       "      <td>No</td>\n",
       "      <td>No</td>\n",
       "      <td>ظهرة لبن</td>\n",
       "      <td>West of Riyadh</td>\n",
       "      <td>894000.0</td>\n",
       "      <td>4470.000000</td>\n",
       "    </tr>\n",
       "    <tr>\n",
       "      <th>4</th>\n",
       "      <td>N</td>\n",
       "      <td>4</td>\n",
       "      <td>2</td>\n",
       "      <td>4</td>\n",
       "      <td>25</td>\n",
       "      <td>Yes</td>\n",
       "      <td>0</td>\n",
       "      <td>Yes</td>\n",
       "      <td>Yes</td>\n",
       "      <td>Yes</td>\n",
       "      <td>...</td>\n",
       "      <td>3</td>\n",
       "      <td>Yes</td>\n",
       "      <td>Yes</td>\n",
       "      <td>Yes</td>\n",
       "      <td>No</td>\n",
       "      <td>No</td>\n",
       "      <td>قرطبة</td>\n",
       "      <td>East of Riyadh</td>\n",
       "      <td>3500000.0</td>\n",
       "      <td>8750.000000</td>\n",
       "    </tr>\n",
       "    <tr>\n",
       "      <th>...</th>\n",
       "      <td>...</td>\n",
       "      <td>...</td>\n",
       "      <td>...</td>\n",
       "      <td>...</td>\n",
       "      <td>...</td>\n",
       "      <td>...</td>\n",
       "      <td>...</td>\n",
       "      <td>...</td>\n",
       "      <td>...</td>\n",
       "      <td>...</td>\n",
       "      <td>...</td>\n",
       "      <td>...</td>\n",
       "      <td>...</td>\n",
       "      <td>...</td>\n",
       "      <td>...</td>\n",
       "      <td>...</td>\n",
       "      <td>...</td>\n",
       "      <td>...</td>\n",
       "      <td>...</td>\n",
       "      <td>...</td>\n",
       "      <td>...</td>\n",
       "    </tr>\n",
       "    <tr>\n",
       "      <th>46819</th>\n",
       "      <td>W</td>\n",
       "      <td>4</td>\n",
       "      <td>2</td>\n",
       "      <td>5</td>\n",
       "      <td>20</td>\n",
       "      <td>Yes</td>\n",
       "      <td>7</td>\n",
       "      <td>No</td>\n",
       "      <td>Yes</td>\n",
       "      <td>Yes</td>\n",
       "      <td>...</td>\n",
       "      <td>2</td>\n",
       "      <td>No</td>\n",
       "      <td>No</td>\n",
       "      <td>No</td>\n",
       "      <td>Yes</td>\n",
       "      <td>No</td>\n",
       "      <td>طويق</td>\n",
       "      <td>West of Riyadh</td>\n",
       "      <td>1350000.0</td>\n",
       "      <td>3750.000000</td>\n",
       "    </tr>\n",
       "    <tr>\n",
       "      <th>46820</th>\n",
       "      <td>S</td>\n",
       "      <td>1</td>\n",
       "      <td>2</td>\n",
       "      <td>3</td>\n",
       "      <td>15</td>\n",
       "      <td>Yes</td>\n",
       "      <td>0</td>\n",
       "      <td>Yes</td>\n",
       "      <td>Yes</td>\n",
       "      <td>No</td>\n",
       "      <td>...</td>\n",
       "      <td>0</td>\n",
       "      <td>Yes</td>\n",
       "      <td>No</td>\n",
       "      <td>Yes</td>\n",
       "      <td>No</td>\n",
       "      <td>No</td>\n",
       "      <td>النهضة</td>\n",
       "      <td>East of Riyadh</td>\n",
       "      <td>2200000.0</td>\n",
       "      <td>6111.111111</td>\n",
       "    </tr>\n",
       "    <tr>\n",
       "      <th>46821</th>\n",
       "      <td>S</td>\n",
       "      <td>5</td>\n",
       "      <td>2</td>\n",
       "      <td>5</td>\n",
       "      <td>20</td>\n",
       "      <td>Yes</td>\n",
       "      <td>0</td>\n",
       "      <td>No</td>\n",
       "      <td>Yes</td>\n",
       "      <td>Yes</td>\n",
       "      <td>...</td>\n",
       "      <td>1</td>\n",
       "      <td>Yes</td>\n",
       "      <td>Yes</td>\n",
       "      <td>No</td>\n",
       "      <td>No</td>\n",
       "      <td>No</td>\n",
       "      <td>المونسية</td>\n",
       "      <td>East of Riyadh</td>\n",
       "      <td>2250000.0</td>\n",
       "      <td>5844.155844</td>\n",
       "    </tr>\n",
       "    <tr>\n",
       "      <th>46823</th>\n",
       "      <td>W</td>\n",
       "      <td>5</td>\n",
       "      <td>3</td>\n",
       "      <td>5</td>\n",
       "      <td>20</td>\n",
       "      <td>No</td>\n",
       "      <td>0</td>\n",
       "      <td>No</td>\n",
       "      <td>Yes</td>\n",
       "      <td>Yes</td>\n",
       "      <td>...</td>\n",
       "      <td>0</td>\n",
       "      <td>Yes</td>\n",
       "      <td>No</td>\n",
       "      <td>No</td>\n",
       "      <td>No</td>\n",
       "      <td>No</td>\n",
       "      <td>طويق</td>\n",
       "      <td>West of Riyadh</td>\n",
       "      <td>1000000.0</td>\n",
       "      <td>5000.000000</td>\n",
       "    </tr>\n",
       "    <tr>\n",
       "      <th>46824</th>\n",
       "      <td>SW</td>\n",
       "      <td>1</td>\n",
       "      <td>2</td>\n",
       "      <td>1</td>\n",
       "      <td>15</td>\n",
       "      <td>No</td>\n",
       "      <td>0</td>\n",
       "      <td>No</td>\n",
       "      <td>No</td>\n",
       "      <td>No</td>\n",
       "      <td>...</td>\n",
       "      <td>2</td>\n",
       "      <td>No</td>\n",
       "      <td>No</td>\n",
       "      <td>No</td>\n",
       "      <td>No</td>\n",
       "      <td>No</td>\n",
       "      <td>النهضة</td>\n",
       "      <td>East of Riyadh</td>\n",
       "      <td>2300000.0</td>\n",
       "      <td>5679.012346</td>\n",
       "    </tr>\n",
       "  </tbody>\n",
       "</table>\n",
       "<p>35686 rows × 25 columns</p>\n",
       "</div>"
      ],
      "text/plain": [
       "      front  rooms  lounges  bathrooms  streetWidth stairs  propertyAge  \\\n",
       "0         E      5        4          5           20    Yes            0   \n",
       "1         W      4        3          5           20    Yes            0   \n",
       "2        SE      7        2          5           15    Yes           31   \n",
       "3         W      7        3          5           15    Yes            3   \n",
       "4         N      4        2          4           25    Yes            0   \n",
       "...     ...    ...      ...        ...          ...    ...          ...   \n",
       "46819     W      4        2          5           20    Yes            7   \n",
       "46820     S      1        2          3           15    Yes            0   \n",
       "46821     S      5        2          5           20    Yes            0   \n",
       "46823     W      5        3          5           20     No            0   \n",
       "46824    SW      1        2          1           15     No            0   \n",
       "\n",
       "      driverRoom tent patio  ... apartments maidRoom elevator furnihsed  pool  \\\n",
       "0            Yes  Yes   Yes  ...          0       No       No        No    No   \n",
       "1            Yes  Yes   Yes  ...          2      Yes      Yes        No    No   \n",
       "2            Yes   No   Yes  ...          0      Yes       No        No    No   \n",
       "3             No  Yes   Yes  ...          0      Yes       No       Yes    No   \n",
       "4            Yes  Yes   Yes  ...          3      Yes      Yes       Yes    No   \n",
       "...          ...  ...   ...  ...        ...      ...      ...       ...   ...   \n",
       "46819         No  Yes   Yes  ...          2       No       No        No   Yes   \n",
       "46820        Yes  Yes    No  ...          0      Yes       No       Yes    No   \n",
       "46821         No  Yes   Yes  ...          1      Yes      Yes        No    No   \n",
       "46823         No  Yes   Yes  ...          0      Yes       No        No    No   \n",
       "46824         No   No    No  ...          2       No       No        No    No   \n",
       "\n",
       "       basement neighbourhood         location      price square price  \n",
       "0            No          عكاظ  South of Riyadh  1050000.0  3500.000000  \n",
       "1            No       المهدية   West of Riyadh  3000000.0  5555.555556  \n",
       "2            No         الشفا  South of Riyadh  2000000.0  2285.714286  \n",
       "3            No      ظهرة لبن   West of Riyadh   894000.0  4470.000000  \n",
       "4            No         قرطبة   East of Riyadh  3500000.0  8750.000000  \n",
       "...         ...           ...              ...        ...          ...  \n",
       "46819        No          طويق   West of Riyadh  1350000.0  3750.000000  \n",
       "46820        No        النهضة   East of Riyadh  2200000.0  6111.111111  \n",
       "46821        No      المونسية   East of Riyadh  2250000.0  5844.155844  \n",
       "46823        No          طويق   West of Riyadh  1000000.0  5000.000000  \n",
       "46824        No        النهضة   East of Riyadh  2300000.0  5679.012346  \n",
       "\n",
       "[35686 rows x 25 columns]"
      ]
     },
     "execution_count": 73,
     "metadata": {},
     "output_type": "execute_result"
    }
   ],
   "source": [
    "df_cleaned"
   ]
  },
  {
   "cell_type": "markdown",
   "id": "b5d6679b-2a82-4587-8fa8-bb3aec960f58",
   "metadata": {},
   "source": [
    "### Saving the cleaned data"
   ]
  },
  {
   "cell_type": "code",
   "execution_count": 74,
   "id": "fc1d35d8-b72f-4464-9d77-2f2809fb56b7",
   "metadata": {
    "tags": []
   },
   "outputs": [],
   "source": [
    "# i will save the cleaned data to use in Dashboard development \n",
    "df_cleaned.to_csv('RiyadhVillasAqar_cleaned.csv', index=False)"
   ]
  }
 ],
 "metadata": {
  "kernelspec": {
   "display_name": "Python 3 (ipykernel)",
   "language": "python",
   "name": "python3"
  },
  "language_info": {
   "codemirror_mode": {
    "name": "ipython",
    "version": 3
   },
   "file_extension": ".py",
   "mimetype": "text/x-python",
   "name": "python",
   "nbconvert_exporter": "python",
   "pygments_lexer": "ipython3",
   "version": "3.11.5"
  }
 },
 "nbformat": 4,
 "nbformat_minor": 5
}
